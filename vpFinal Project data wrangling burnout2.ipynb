{
 "cells": [
  {
   "cell_type": "markdown",
   "id": "ca246103",
   "metadata": {},
   "source": [
    "## Load packages"
   ]
  },
  {
   "cell_type": "code",
   "execution_count": 21,
   "id": "f9b9b3f4",
   "metadata": {},
   "outputs": [],
   "source": [
    "import pandas as pd\n",
    "import numpy as np\n",
    "from sklearn.linear_model import LinearRegression\n",
    "from sklearn.model_selection import train_test_split\n",
    "import matplotlib.pyplot as plt\n",
    "%matplotlib inline\n",
    "from sklearn import metrics\n",
    "from sklearn.model_selection import KFold\n",
    "from sklearn.model_selection import cross_val_score"
   ]
  },
  {
   "cell_type": "markdown",
   "id": "37ecdebe",
   "metadata": {},
   "source": [
    "## Load dataset"
   ]
  },
  {
   "cell_type": "code",
   "execution_count": 22,
   "id": "bc1dcfb6",
   "metadata": {},
   "outputs": [],
   "source": [
    "WFH_BurnOut = pd.read_csv(\"WFH_BurnOut.csv\")"
   ]
  },
  {
   "cell_type": "code",
   "execution_count": 23,
   "id": "d8c6305f",
   "metadata": {},
   "outputs": [
    {
     "data": {
      "text/html": [
       "<div>\n",
       "<style scoped>\n",
       "    .dataframe tbody tr th:only-of-type {\n",
       "        vertical-align: middle;\n",
       "    }\n",
       "\n",
       "    .dataframe tbody tr th {\n",
       "        vertical-align: top;\n",
       "    }\n",
       "\n",
       "    .dataframe thead th {\n",
       "        text-align: right;\n",
       "    }\n",
       "</style>\n",
       "<table border=\"1\" class=\"dataframe\">\n",
       "  <thead>\n",
       "    <tr style=\"text-align: right;\">\n",
       "      <th></th>\n",
       "      <th>Employee_ID</th>\n",
       "      <th>Gender</th>\n",
       "      <th>WFH_Setup_Available</th>\n",
       "      <th>Mental_Fatigue_Score</th>\n",
       "      <th>Burn_Rate</th>\n",
       "    </tr>\n",
       "  </thead>\n",
       "  <tbody>\n",
       "    <tr>\n",
       "      <th>0</th>\n",
       "      <td>fffe32003000360033003200</td>\n",
       "      <td>Female</td>\n",
       "      <td>No</td>\n",
       "      <td>3.8</td>\n",
       "      <td>0.16</td>\n",
       "    </tr>\n",
       "    <tr>\n",
       "      <th>1</th>\n",
       "      <td>fffe3700360033003500</td>\n",
       "      <td>Male</td>\n",
       "      <td>Yes</td>\n",
       "      <td>5.0</td>\n",
       "      <td>0.36</td>\n",
       "    </tr>\n",
       "    <tr>\n",
       "      <th>2</th>\n",
       "      <td>fffe31003300320037003900</td>\n",
       "      <td>Female</td>\n",
       "      <td>Yes</td>\n",
       "      <td>5.8</td>\n",
       "      <td>0.49</td>\n",
       "    </tr>\n",
       "    <tr>\n",
       "      <th>3</th>\n",
       "      <td>fffe32003400380032003900</td>\n",
       "      <td>Male</td>\n",
       "      <td>Yes</td>\n",
       "      <td>2.6</td>\n",
       "      <td>0.20</td>\n",
       "    </tr>\n",
       "    <tr>\n",
       "      <th>4</th>\n",
       "      <td>fffe31003900340031003600</td>\n",
       "      <td>Female</td>\n",
       "      <td>No</td>\n",
       "      <td>6.9</td>\n",
       "      <td>0.52</td>\n",
       "    </tr>\n",
       "  </tbody>\n",
       "</table>\n",
       "</div>"
      ],
      "text/plain": [
       "                Employee_ID  Gender WFH_Setup_Available  Mental_Fatigue_Score  \\\n",
       "0  fffe32003000360033003200  Female                  No                   3.8   \n",
       "1      fffe3700360033003500    Male                 Yes                   5.0   \n",
       "2  fffe31003300320037003900  Female                 Yes                   5.8   \n",
       "3  fffe32003400380032003900    Male                 Yes                   2.6   \n",
       "4  fffe31003900340031003600  Female                  No                   6.9   \n",
       "\n",
       "   Burn_Rate  \n",
       "0       0.16  \n",
       "1       0.36  \n",
       "2       0.49  \n",
       "3       0.20  \n",
       "4       0.52  "
      ]
     },
     "execution_count": 23,
     "metadata": {},
     "output_type": "execute_result"
    }
   ],
   "source": [
    "WFH_BurnOut.head()"
   ]
  },
  {
   "cell_type": "markdown",
   "id": "e6a2262d",
   "metadata": {},
   "source": [
    "## Remove NULL values"
   ]
  },
  {
   "cell_type": "code",
   "execution_count": 24,
   "id": "1ea017fc",
   "metadata": {},
   "outputs": [],
   "source": [
    "WFH_BurnOut1 = WFH_BurnOut.dropna(axis= 0)"
   ]
  },
  {
   "cell_type": "code",
   "execution_count": 25,
   "id": "98269e15",
   "metadata": {},
   "outputs": [
    {
     "data": {
      "text/plain": [
       "Employee_ID             0\n",
       "Gender                  0\n",
       "WFH_Setup_Available     0\n",
       "Mental_Fatigue_Score    0\n",
       "Burn_Rate               0\n",
       "dtype: int64"
      ]
     },
     "execution_count": 25,
     "metadata": {},
     "output_type": "execute_result"
    }
   ],
   "source": [
    "WFH_BurnOut1.isnull().sum()"
   ]
  },
  {
   "cell_type": "code",
   "execution_count": 26,
   "id": "a3acfdc5",
   "metadata": {},
   "outputs": [
    {
     "data": {
      "text/html": [
       "<div>\n",
       "<style scoped>\n",
       "    .dataframe tbody tr th:only-of-type {\n",
       "        vertical-align: middle;\n",
       "    }\n",
       "\n",
       "    .dataframe tbody tr th {\n",
       "        vertical-align: top;\n",
       "    }\n",
       "\n",
       "    .dataframe thead th {\n",
       "        text-align: right;\n",
       "    }\n",
       "</style>\n",
       "<table border=\"1\" class=\"dataframe\">\n",
       "  <thead>\n",
       "    <tr style=\"text-align: right;\">\n",
       "      <th></th>\n",
       "      <th>Employee_ID</th>\n",
       "      <th>Gender</th>\n",
       "      <th>WFH_Setup_Available</th>\n",
       "      <th>Mental_Fatigue_Score</th>\n",
       "      <th>Burn_Rate</th>\n",
       "    </tr>\n",
       "  </thead>\n",
       "  <tbody>\n",
       "    <tr>\n",
       "      <th>0</th>\n",
       "      <td>fffe32003000360033003200</td>\n",
       "      <td>Female</td>\n",
       "      <td>No</td>\n",
       "      <td>3.8</td>\n",
       "      <td>0.16</td>\n",
       "    </tr>\n",
       "    <tr>\n",
       "      <th>1</th>\n",
       "      <td>fffe3700360033003500</td>\n",
       "      <td>Male</td>\n",
       "      <td>Yes</td>\n",
       "      <td>5.0</td>\n",
       "      <td>0.36</td>\n",
       "    </tr>\n",
       "    <tr>\n",
       "      <th>2</th>\n",
       "      <td>fffe31003300320037003900</td>\n",
       "      <td>Female</td>\n",
       "      <td>Yes</td>\n",
       "      <td>5.8</td>\n",
       "      <td>0.49</td>\n",
       "    </tr>\n",
       "    <tr>\n",
       "      <th>3</th>\n",
       "      <td>fffe32003400380032003900</td>\n",
       "      <td>Male</td>\n",
       "      <td>Yes</td>\n",
       "      <td>2.6</td>\n",
       "      <td>0.20</td>\n",
       "    </tr>\n",
       "    <tr>\n",
       "      <th>4</th>\n",
       "      <td>fffe31003900340031003600</td>\n",
       "      <td>Female</td>\n",
       "      <td>No</td>\n",
       "      <td>6.9</td>\n",
       "      <td>0.52</td>\n",
       "    </tr>\n",
       "  </tbody>\n",
       "</table>\n",
       "</div>"
      ],
      "text/plain": [
       "                Employee_ID  Gender WFH_Setup_Available  Mental_Fatigue_Score  \\\n",
       "0  fffe32003000360033003200  Female                  No                   3.8   \n",
       "1      fffe3700360033003500    Male                 Yes                   5.0   \n",
       "2  fffe31003300320037003900  Female                 Yes                   5.8   \n",
       "3  fffe32003400380032003900    Male                 Yes                   2.6   \n",
       "4  fffe31003900340031003600  Female                  No                   6.9   \n",
       "\n",
       "   Burn_Rate  \n",
       "0       0.16  \n",
       "1       0.36  \n",
       "2       0.49  \n",
       "3       0.20  \n",
       "4       0.52  "
      ]
     },
     "execution_count": 26,
     "metadata": {},
     "output_type": "execute_result"
    }
   ],
   "source": [
    "WFH_BurnOut1.head()"
   ]
  },
  {
   "cell_type": "markdown",
   "id": "7e4331bf",
   "metadata": {},
   "source": [
    "## Recoding string values to integer values"
   ]
  },
  {
   "cell_type": "code",
   "execution_count": 27,
   "id": "99a8e245",
   "metadata": {},
   "outputs": [
    {
     "name": "stderr",
     "output_type": "stream",
     "text": [
      "<ipython-input-27-0c1e83cfdf1a>:6: SettingWithCopyWarning: \n",
      "A value is trying to be set on a copy of a slice from a DataFrame.\n",
      "Try using .loc[row_indexer,col_indexer] = value instead\n",
      "\n",
      "See the caveats in the documentation: https://pandas.pydata.org/pandas-docs/stable/user_guide/indexing.html#returning-a-view-versus-a-copy\n",
      "  WFH_BurnOut1[\"GenderR\"] = WFH_BurnOut[\"Gender\"].apply(Gender)\n"
     ]
    }
   ],
   "source": [
    "def Gender (series):\n",
    "    if series == \"Female\":\n",
    "        return 0\n",
    "    if series == \"Male\":\n",
    "        return 1\n",
    "WFH_BurnOut1[\"GenderR\"] = WFH_BurnOut[\"Gender\"].apply(Gender)"
   ]
  },
  {
   "cell_type": "code",
   "execution_count": 28,
   "id": "5bdd1ed8",
   "metadata": {},
   "outputs": [
    {
     "name": "stderr",
     "output_type": "stream",
     "text": [
      "<ipython-input-28-7bba98931f32>:6: SettingWithCopyWarning: \n",
      "A value is trying to be set on a copy of a slice from a DataFrame.\n",
      "Try using .loc[row_indexer,col_indexer] = value instead\n",
      "\n",
      "See the caveats in the documentation: https://pandas.pydata.org/pandas-docs/stable/user_guide/indexing.html#returning-a-view-versus-a-copy\n",
      "  WFH_BurnOut1[\"WFH_Setup_AvailableR\"] = WFH_BurnOut[\"WFH_Setup_Available\"].apply(WFH_Setup_Available)\n"
     ]
    }
   ],
   "source": [
    "def WFH_Setup_Available (series):\n",
    "    if series == \"No\":\n",
    "        return 0\n",
    "    if series == \"Yes\":\n",
    "        return 1\n",
    "WFH_BurnOut1[\"WFH_Setup_AvailableR\"] = WFH_BurnOut[\"WFH_Setup_Available\"].apply(WFH_Setup_Available)"
   ]
  },
  {
   "cell_type": "code",
   "execution_count": 29,
   "id": "eea3507e",
   "metadata": {},
   "outputs": [
    {
     "data": {
      "text/html": [
       "<div>\n",
       "<style scoped>\n",
       "    .dataframe tbody tr th:only-of-type {\n",
       "        vertical-align: middle;\n",
       "    }\n",
       "\n",
       "    .dataframe tbody tr th {\n",
       "        vertical-align: top;\n",
       "    }\n",
       "\n",
       "    .dataframe thead th {\n",
       "        text-align: right;\n",
       "    }\n",
       "</style>\n",
       "<table border=\"1\" class=\"dataframe\">\n",
       "  <thead>\n",
       "    <tr style=\"text-align: right;\">\n",
       "      <th></th>\n",
       "      <th>Employee_ID</th>\n",
       "      <th>Gender</th>\n",
       "      <th>WFH_Setup_Available</th>\n",
       "      <th>Mental_Fatigue_Score</th>\n",
       "      <th>Burn_Rate</th>\n",
       "      <th>GenderR</th>\n",
       "      <th>WFH_Setup_AvailableR</th>\n",
       "    </tr>\n",
       "  </thead>\n",
       "  <tbody>\n",
       "    <tr>\n",
       "      <th>0</th>\n",
       "      <td>fffe32003000360033003200</td>\n",
       "      <td>Female</td>\n",
       "      <td>No</td>\n",
       "      <td>3.8</td>\n",
       "      <td>0.16</td>\n",
       "      <td>0</td>\n",
       "      <td>0</td>\n",
       "    </tr>\n",
       "    <tr>\n",
       "      <th>1</th>\n",
       "      <td>fffe3700360033003500</td>\n",
       "      <td>Male</td>\n",
       "      <td>Yes</td>\n",
       "      <td>5.0</td>\n",
       "      <td>0.36</td>\n",
       "      <td>1</td>\n",
       "      <td>1</td>\n",
       "    </tr>\n",
       "    <tr>\n",
       "      <th>2</th>\n",
       "      <td>fffe31003300320037003900</td>\n",
       "      <td>Female</td>\n",
       "      <td>Yes</td>\n",
       "      <td>5.8</td>\n",
       "      <td>0.49</td>\n",
       "      <td>0</td>\n",
       "      <td>1</td>\n",
       "    </tr>\n",
       "    <tr>\n",
       "      <th>3</th>\n",
       "      <td>fffe32003400380032003900</td>\n",
       "      <td>Male</td>\n",
       "      <td>Yes</td>\n",
       "      <td>2.6</td>\n",
       "      <td>0.20</td>\n",
       "      <td>1</td>\n",
       "      <td>1</td>\n",
       "    </tr>\n",
       "    <tr>\n",
       "      <th>4</th>\n",
       "      <td>fffe31003900340031003600</td>\n",
       "      <td>Female</td>\n",
       "      <td>No</td>\n",
       "      <td>6.9</td>\n",
       "      <td>0.52</td>\n",
       "      <td>0</td>\n",
       "      <td>0</td>\n",
       "    </tr>\n",
       "  </tbody>\n",
       "</table>\n",
       "</div>"
      ],
      "text/plain": [
       "                Employee_ID  Gender WFH_Setup_Available  Mental_Fatigue_Score  \\\n",
       "0  fffe32003000360033003200  Female                  No                   3.8   \n",
       "1      fffe3700360033003500    Male                 Yes                   5.0   \n",
       "2  fffe31003300320037003900  Female                 Yes                   5.8   \n",
       "3  fffe32003400380032003900    Male                 Yes                   2.6   \n",
       "4  fffe31003900340031003600  Female                  No                   6.9   \n",
       "\n",
       "   Burn_Rate  GenderR  WFH_Setup_AvailableR  \n",
       "0       0.16        0                     0  \n",
       "1       0.36        1                     1  \n",
       "2       0.49        0                     1  \n",
       "3       0.20        1                     1  \n",
       "4       0.52        0                     0  "
      ]
     },
     "execution_count": 29,
     "metadata": {},
     "output_type": "execute_result"
    }
   ],
   "source": [
    "WFH_BurnOut1.head()"
   ]
  },
  {
   "cell_type": "markdown",
   "id": "5e309cf5",
   "metadata": {},
   "source": [
    "## check for null values"
   ]
  },
  {
   "cell_type": "code",
   "execution_count": 30,
   "id": "cccbb65e",
   "metadata": {},
   "outputs": [
    {
     "data": {
      "text/plain": [
       "Employee_ID             0\n",
       "Gender                  0\n",
       "WFH_Setup_Available     0\n",
       "Mental_Fatigue_Score    0\n",
       "Burn_Rate               0\n",
       "GenderR                 0\n",
       "WFH_Setup_AvailableR    0\n",
       "dtype: int64"
      ]
     },
     "execution_count": 30,
     "metadata": {},
     "output_type": "execute_result"
    }
   ],
   "source": [
    "WFH_BurnOut1.isnull().sum()"
   ]
  },
  {
   "cell_type": "markdown",
   "id": "2a9920ff",
   "metadata": {},
   "source": [
    "# Data Exploration"
   ]
  },
  {
   "cell_type": "markdown",
   "id": "879deaf6",
   "metadata": {},
   "source": [
    "## What is the correlation between Mental fatigue and wfh setup available?"
   ]
  },
  {
   "cell_type": "markdown",
   "id": "37ce04b0",
   "metadata": {},
   "source": [
    "## trying scatterplot to see how to represent data"
   ]
  },
  {
   "cell_type": "code",
   "execution_count": 31,
   "id": "e64e94ee",
   "metadata": {},
   "outputs": [
    {
     "data": {
      "text/plain": [
       "Text(0, 0.5, 'Mental Fatigue')"
      ]
     },
     "execution_count": 31,
     "metadata": {},
     "output_type": "execute_result"
    },
    {
     "data": {
      "image/png": "[encoded data removed]",
      "text/plain": [
       "<Figure size 432x288 with 1 Axes>"
      ]
     },
     "metadata": {
      "needs_background": "light"
     },
     "output_type": "display_data"
    }
   ],
   "source": [
    "Plot = WFH_BurnOut1.plot.scatter(x=\"WFH_Setup_AvailableR\", y= \"Mental_Fatigue_Score\")\n",
    "Plot.set_title(\"Effects of Available WFH Setup on Mental Fatigue\")\n",
    "Plot.set_xlabel(\"WFH Setup\")\n",
    "Plot.set_ylabel(\"Mental Fatigue\")"
   ]
  },
  {
   "cell_type": "markdown",
   "id": "7f77f9cf",
   "metadata": {},
   "source": [
    "### not good representation of data"
   ]
  },
  {
   "cell_type": "markdown",
   "id": "9b3a31da",
   "metadata": {},
   "source": [
    "## Scatterplot of Burn_rate and Mental fatigue"
   ]
  },
  {
   "cell_type": "code",
   "execution_count": 32,
   "id": "441c70e8",
   "metadata": {},
   "outputs": [
    {
     "data": {
      "text/plain": [
       "Text(0, 0.5, 'Burnout Rate')"
      ]
     },
     "execution_count": 32,
     "metadata": {},
     "output_type": "execute_result"
    },
    {
     "data": {
      "image/png": "[encoded data removed]",
      "text/plain": [
       "<Figure size 432x288 with 1 Axes>"
      ]
     },
     "metadata": {
      "needs_background": "light"
     },
     "output_type": "display_data"
    }
   ],
   "source": [
    "Plot = WFH_BurnOut1.plot.scatter(x=\"Mental_Fatigue_Score\", y= \"Burn_Rate\")\n",
    "Plot.set_title(\"Effects of Mental Fatigue on Employee Burnout\")\n",
    "Plot.set_xlabel(\"Mental Fatigue\")\n",
    "Plot.set_ylabel(\"Burnout Rate\")"
   ]
  },
  {
   "cell_type": "markdown",
   "id": "8b41f292",
   "metadata": {},
   "source": [
    "#### Scatterplot shows a corrolation between burn rate and mental fatigue, as expected the higher the fatigue\n",
    "#### the higher the burn rate"
   ]
  },
  {
   "cell_type": "markdown",
   "id": "4694e2c9",
   "metadata": {},
   "source": [
    "# Machine Learning"
   ]
  },
  {
   "cell_type": "markdown",
   "id": "644eb71d",
   "metadata": {},
   "source": [
    "## Predict BurnOut Rate--Does WFH setup effect burnout in employees"
   ]
  },
  {
   "cell_type": "markdown",
   "id": "731286e2",
   "metadata": {},
   "source": [
    "## Setup X and Y for testing and training"
   ]
  },
  {
   "cell_type": "code",
   "execution_count": 33,
   "id": "44ca2d7b",
   "metadata": {},
   "outputs": [],
   "source": [
    "x = WFH_BurnOut1[[\"WFH_Setup_AvailableR\", \"Mental_Fatigue_Score\",\"GenderR\"]] \n",
    "y = WFH_BurnOut1[\"Burn_Rate\"]"
   ]
  },
  {
   "cell_type": "code",
   "execution_count": 34,
   "id": "432a915b",
   "metadata": {},
   "outputs": [],
   "source": [
    "x_train, x_test, y_train, y_test = train_test_split(x,y, test_size = .3, random_state=101)"
   ]
  },
  {
   "cell_type": "code",
   "execution_count": 35,
   "id": "0846977d",
   "metadata": {},
   "outputs": [
    {
     "name": "stdout",
     "output_type": "stream",
     "text": [
      "(13776, 3) (13776,)\n",
      "(5905, 3) (5905,)\n"
     ]
    }
   ],
   "source": [
    "print(x_train.shape, y_train.shape)\n",
    "print(x_test.shape, y_test.shape)"
   ]
  },
  {
   "cell_type": "markdown",
   "id": "e00a6f48",
   "metadata": {},
   "source": [
    "### The results show that there are 13,776 rows and 3 columns in the \n",
    "### x_train dataset and 5905 rows and 3 columns in the x_test dataset"
   ]
  },
  {
   "cell_type": "markdown",
   "id": "4de441a1",
   "metadata": {},
   "source": [
    "## Create Linear Regression"
   ]
  },
  {
   "cell_type": "code",
   "execution_count": 36,
   "id": "e7211228",
   "metadata": {},
   "outputs": [
    {
     "data": {
      "text/plain": [
       "LinearRegression()"
      ]
     },
     "execution_count": 36,
     "metadata": {},
     "output_type": "execute_result"
    }
   ],
   "source": [
    "lm = LinearRegression()\n",
    "lm.fit(x_train, y_train)"
   ]
  },
  {
   "cell_type": "markdown",
   "id": "8ebf31b8",
   "metadata": {},
   "source": [
    "### above split indicates that linear regression worked"
   ]
  },
  {
   "cell_type": "code",
   "execution_count": 37,
   "id": "22f39abd",
   "metadata": {},
   "outputs": [
    {
     "data": {
      "text/plain": [
       "array([0.67416511, 0.51109211, 0.31208084, ..., 0.50230545, 0.63579499,\n",
       "       0.46475545])"
      ]
     },
     "execution_count": 37,
     "metadata": {},
     "output_type": "execute_result"
    }
   ],
   "source": [
    "predictions = lm.predict(x_test)\n",
    "predictions"
   ]
  },
  {
   "cell_type": "markdown",
   "id": "92d3e878",
   "metadata": {},
   "source": [
    "### above is the resulting array which does not depict visually the prediction results. Will do a scatterplot\n",
    "### to better visualize the prediction"
   ]
  },
  {
   "cell_type": "code",
   "execution_count": 38,
   "id": "581e8455",
   "metadata": {},
   "outputs": [
    {
     "data": {
      "text/plain": [
       "<matplotlib.collections.PathCollection at 0x7fb96dc300d0>"
      ]
     },
     "execution_count": 38,
     "metadata": {},
     "output_type": "execute_result"
    },
    {
     "data": {
      "image/png": "[encoded data removed]",
      "text/plain": [
       "<Figure size 432x288 with 1 Axes>"
      ]
     },
     "metadata": {
      "needs_background": "light"
     },
     "output_type": "display_data"
    }
   ],
   "source": [
    "plt.scatter(y_test, predictions)"
   ]
  },
  {
   "cell_type": "markdown",
   "id": "d45f9bea",
   "metadata": {},
   "source": [
    "### the prediction looks pretty strong.  Let's look at a more accurate view of prediction using score()"
   ]
  },
  {
   "cell_type": "code",
   "execution_count": 39,
   "id": "2a1d48ad",
   "metadata": {},
   "outputs": [
    {
     "name": "stdout",
     "output_type": "stream",
     "text": [
      "Score: 0.8928532493489794\n"
     ]
    }
   ],
   "source": [
    "print(\"Score:\", lm.score(x_test, y_test))"
   ]
  },
  {
   "cell_type": "markdown",
   "id": "f9db4b4c",
   "metadata": {},
   "source": [
    "### The result is the model is approximately accurate 89.3% of the time, this is very good!"
   ]
  },
  {
   "cell_type": "markdown",
   "id": "112a9f88",
   "metadata": {},
   "source": [
    "### Let's look at MAE or (Mean Absolute Error) for the model--average error of predictions to real data"
   ]
  },
  {
   "cell_type": "code",
   "execution_count": 40,
   "id": "f631ed1d",
   "metadata": {},
   "outputs": [
    {
     "data": {
      "text/plain": [
       "0.05382176782221755"
      ]
     },
     "execution_count": 40,
     "metadata": {},
     "output_type": "execute_result"
    }
   ],
   "source": [
    "metrics.mean_absolute_error(y_test, predictions)"
   ]
  },
  {
   "cell_type": "markdown",
   "id": "e3647b76",
   "metadata": {},
   "source": [
    "### the lowest you can have is 0 and this was 0.05, which is very good!"
   ]
  },
  {
   "cell_type": "markdown",
   "id": "d60dcc5d",
   "metadata": {},
   "source": [
    "## It is always good to do a cross-validation to ensure bais has not been introduced into the model"
   ]
  },
  {
   "cell_type": "markdown",
   "id": "3a059aa2",
   "metadata": {},
   "source": [
    "## K-folds cross-validation"
   ]
  },
  {
   "cell_type": "code",
   "execution_count": 41,
   "id": "c76868b7",
   "metadata": {},
   "outputs": [
    {
     "name": "stdout",
     "output_type": "stream",
     "text": [
      "train: [    1     2     3 ... 19678 19679 19680], test: [    0     4     5 ... 19673 19675 19676]\n",
      "train: [    0     3     4 ... 19675 19676 19679], test: [    1     2    10 ... 19677 19678 19680]\n",
      "train: [    0     1     2 ... 19677 19678 19680], test: [    3     9    11 ... 19670 19674 19679]\n"
     ]
    },
    {
     "name": "stderr",
     "output_type": "stream",
     "text": [
      "/Users/vanessapullum/opt/anaconda3/lib/python3.8/site-packages/sklearn/utils/validation.py:70: FutureWarning: Pass shuffle=True, random_state=1 as keyword args. From version 1.0 (renaming of 0.25) passing these as positional arguments will result in an error\n",
      "  warnings.warn(f\"Pass {args_msg} as keyword args. From version \"\n"
     ]
    }
   ],
   "source": [
    "kfold = KFold(3, True, 1)\n",
    "for train, test in kfold.split(x,y):\n",
    "    print('train: %s, test: %s' % (train,test))"
   ]
  },
  {
   "cell_type": "markdown",
   "id": "b8d7a29e",
   "metadata": {},
   "source": [
    "### These are all of the sets, now we will print cross-validation score"
   ]
  },
  {
   "cell_type": "code",
   "execution_count": 43,
   "id": "6300321c",
   "metadata": {},
   "outputs": [
    {
     "name": "stdout",
     "output_type": "stream",
     "text": [
      "[0.8949527  0.89480781 0.89414731]\n"
     ]
    }
   ],
   "source": [
    "print(cross_val_score(lm, x,y, cv=3))"
   ]
  },
  {
   "cell_type": "markdown",
   "id": "229e25a3",
   "metadata": {},
   "source": [
    "### The results show that all three models are showing 89% this model is very strong at prediction!"
   ]
  },
  {
   "cell_type": "code",
   "execution_count": null,
   "id": "a53dd007",
   "metadata": {},
   "outputs": [],
   "source": []
  }
 ],
 "metadata": {
  "kernelspec": {
   "display_name": "Python 3",
   "language": "python",
   "name": "python3"
  },
  "language_info": {
   "codemirror_mode": {
    "name": "ipython",
    "version": 3
   },
   "file_extension": ".py",
   "mimetype": "text/x-python",
   "name": "python",
   "nbconvert_exporter": "python",
   "pygments_lexer": "ipython3",
   "version": "3.8.8"
  }
 },
 "nbformat": 4,
 "nbformat_minor": 5
}
